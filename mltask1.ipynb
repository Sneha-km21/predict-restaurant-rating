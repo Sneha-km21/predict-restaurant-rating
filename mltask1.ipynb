{
  "nbformat": 4,
  "nbformat_minor": 0,
  "metadata": {
    "colab": {
      "provenance": []
    },
    "kernelspec": {
      "name": "python3",
      "display_name": "Python 3"
    },
    "language_info": {
      "name": "python"
    }
  },
  "cells": [
    {
      "cell_type": "code",
      "execution_count": 26,
      "metadata": {
        "id": "hoHb3PshLEqG"
      },
      "outputs": [],
      "source": [
        "import pandas as pd\n",
        "import numpy as np\n",
        "from sklearn.model_selection import train_test_split\n",
        "from sklearn.preprocessing import LabelEncoder, OneHotEncoder, StandardScaler\n",
        "from sklearn.metrics import mean_squared_error, r2_score\n",
        "from sklearn.linear_model import LinearRegression\n",
        "from sklearn.tree import DecisionTreeRegressor"
      ]
    },
    {
      "cell_type": "code",
      "source": [
        "df = pd.read_csv(\"restaurant_data.csv\")\n",
        "print(df.head())\n",
        "print(df.info())\n",
        "print(df.describe())"
      ],
      "metadata": {
        "colab": {
          "base_uri": "https://localhost:8080/"
        },
        "id": "lKETceZmLjPT",
        "outputId": "fb5af3e2-589c-4138-8f17-39c631a92637"
      },
      "execution_count": 6,
      "outputs": [
        {
          "output_type": "stream",
          "name": "stdout",
          "text": [
            "  Cuisines  Average Cost for two  Aggregate rating\n",
            "0  Italian                  25.0               4.5\n",
            "1  Mexican                  30.0               4.0\n",
            "2  Unknown                   NaN               3.0\n",
            "3   Indian                  20.0               4.2\n",
            "4  Chinese                  35.0               4.8\n",
            "<class 'pandas.core.frame.DataFrame'>\n",
            "RangeIndex: 7 entries, 0 to 6\n",
            "Data columns (total 3 columns):\n",
            " #   Column                Non-Null Count  Dtype  \n",
            "---  ------                --------------  -----  \n",
            " 0   Cuisines              7 non-null      object \n",
            " 1   Average Cost for two  6 non-null      float64\n",
            " 2   Aggregate rating      6 non-null      float64\n",
            "dtypes: float64(2), object(1)\n",
            "memory usage: 300.0+ bytes\n",
            "None\n",
            "       Average Cost for two  Aggregate rating\n",
            "count              6.000000          6.000000\n",
            "mean              26.666667          4.100000\n",
            "std                5.501515          0.613188\n",
            "min               20.000000          3.000000\n",
            "25%               22.750000          4.025000\n",
            "50%               26.500000          4.150000\n",
            "75%               29.500000          4.425000\n",
            "max               35.000000          4.800000\n"
          ]
        }
      ]
    },
    {
      "cell_type": "code",
      "metadata": {
        "colab": {
          "base_uri": "https://localhost:8080/"
        },
        "id": "d4b294bf",
        "outputId": "433f94a5-7ece-4f81-e476-2252eec09027"
      },
      "source": [
        "\n",
        "df['Aggregate rating'].fillna(df['Aggregate rating'].mean(), inplace=True)\n",
        "print(df.info())"
      ],
      "execution_count": 15,
      "outputs": [
        {
          "output_type": "stream",
          "name": "stdout",
          "text": [
            "<class 'pandas.core.frame.DataFrame'>\n",
            "RangeIndex: 7 entries, 0 to 6\n",
            "Data columns (total 6 columns):\n",
            " #   Column                Non-Null Count  Dtype  \n",
            "---  ------                --------------  -----  \n",
            " 0   Average Cost for two  7 non-null      float64\n",
            " 1   Aggregate rating      7 non-null      float64\n",
            " 2   Cuisines_Indian       7 non-null      bool   \n",
            " 3   Cuisines_Italian      7 non-null      bool   \n",
            " 4   Cuisines_Mexican      7 non-null      bool   \n",
            " 5   Cuisines_Unknown      7 non-null      bool   \n",
            "dtypes: bool(4), float64(2)\n",
            "memory usage: 272.0 bytes\n",
            "None\n"
          ]
        },
        {
          "output_type": "stream",
          "name": "stderr",
          "text": [
            "/tmp/ipython-input-1080093188.py:1: FutureWarning: A value is trying to be set on a copy of a DataFrame or Series through chained assignment using an inplace method.\n",
            "The behavior will change in pandas 3.0. This inplace method will never work because the intermediate object on which we are setting values always behaves as a copy.\n",
            "\n",
            "For example, when doing 'df[col].method(value, inplace=True)', try using 'df.method({col: value}, inplace=True)' or df[col] = df[col].method(value) instead, to perform the operation inplace on the original object.\n",
            "\n",
            "\n",
            "  df['Aggregate rating'].fillna(df['Aggregate rating'].mean(), inplace=True)\n"
          ]
        }
      ]
    },
    {
      "cell_type": "code",
      "source": [
        "X = df.drop(\"Aggregate rating\", axis=1)\n",
        "y = df[\"Aggregate rating\"]"
      ],
      "metadata": {
        "id": "ZbA7YiiuNtui"
      },
      "execution_count": 23,
      "outputs": []
    },
    {
      "cell_type": "code",
      "source": [
        "X_train, X_test, y_train, y_test = train_test_split(X, y, test_size=0.2, random_state=42)"
      ],
      "metadata": {
        "id": "-PVW0RuFOH95"
      },
      "execution_count": 27,
      "outputs": []
    },
    {
      "cell_type": "code",
      "source": [
        "lr = LinearRegression()\n",
        "lr.fit(X_train, y_train)\n",
        "y_pred_lr = lr.predict(X_test)"
      ],
      "metadata": {
        "id": "VOm9xGtLNhSk"
      },
      "execution_count": 28,
      "outputs": []
    },
    {
      "cell_type": "code",
      "source": [
        "dt = DecisionTreeRegressor(max_depth=6, random_state=42)\n",
        "dt.fit(X_train, y_train)\n",
        "y_pred_dt = dt.predict(X_test)"
      ],
      "metadata": {
        "id": "-YWS5zO7PUtZ"
      },
      "execution_count": 32,
      "outputs": []
    },
    {
      "cell_type": "code",
      "source": [
        "# Linear Regression\n",
        "print(\"Linear Regression:\")\n",
        "print(\"MSE:\", mean_squared_error(y_test, y_pred_lr))\n",
        "print(\"R²:\", r2_score(y_test, y_pred_lr))\n",
        "\n",
        "# Decision Tree Regression\n",
        "print(\"\\nDecision Tree Regression:\")\n",
        "print(\"MSE:\", mean_squared_error(y_test, y_pred_dt))\n",
        "print(\"R²:\", r2_score(y_test, y_pred_dt))"
      ],
      "metadata": {
        "colab": {
          "base_uri": "https://localhost:8080/"
        },
        "id": "YmdqFFiAPi9J",
        "outputId": "dd0eefb8-56c1-4767-f9aa-d32f1b615aeb"
      },
      "execution_count": 33,
      "outputs": [
        {
          "output_type": "stream",
          "name": "stdout",
          "text": [
            "Linear Regression:\n",
            "MSE: 2.2258024691358065\n",
            "R²: -34.612839506172904\n",
            "\n",
            "Decision Tree Regression:\n",
            "MSE: 0.10000000000000017\n",
            "R²: -0.6000000000000028\n"
          ]
        }
      ]
    },
    {
      "cell_type": "code",
      "source": [
        "import matplotlib.pyplot as plt\n",
        "\n",
        "importance = dt.feature_importances_\n",
        "feat_importance = pd.Series(importance, index=X.columns)\n",
        "feat_importance.nlargest(10).plot(kind='barh')\n",
        "plt.show()"
      ],
      "metadata": {
        "colab": {
          "base_uri": "https://localhost:8080/",
          "height": 405
        },
        "id": "YTbkvdnyPsKd",
        "outputId": "484807d0-bf43-467e-fa58-54580f79ae1d"
      },
      "execution_count": 34,
      "outputs": [
        {
          "output_type": "display_data",
          "data": {
            "text/plain": [
              "<Figure size 640x480 with 1 Axes>"
            ],
            "image/png": "[encoded data removed]"
          },
          "metadata": {}
        }
      ]
    },
    {
      "cell_type": "code",
      "source": [
        "coef_df = pd.DataFrame({\"Feature\": X.columns, \"Coefficient\": lr.coef_})\n",
        "print(coef_df.sort_values(by=\"Coefficient\", ascending=False))"
      ],
      "metadata": {
        "colab": {
          "base_uri": "https://localhost:8080/"
        },
        "id": "v-jDMzUWP1om",
        "outputId": "64a4d045-173b-4f0b-cf81-03d749d0b334"
      },
      "execution_count": 35,
      "outputs": [
        {
          "output_type": "stream",
          "name": "stdout",
          "text": [
            "                Feature  Coefficient\n",
            "3      Cuisines_Mexican     0.000000\n",
            "0  Average Cost for two    -0.255556\n",
            "2      Cuisines_Italian    -2.488889\n",
            "4      Cuisines_Unknown    -3.972222\n",
            "1       Cuisines_Indian    -4.433333\n"
          ]
        }
      ]
    }
  ]
}